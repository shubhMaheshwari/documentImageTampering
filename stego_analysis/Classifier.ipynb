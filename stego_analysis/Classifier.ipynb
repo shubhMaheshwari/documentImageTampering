{
 "cells": [
  {
   "cell_type": "markdown",
   "metadata": {},
   "source": [
    "# Given features we now want to predict using an SVM"
   ]
  },
  {
   "cell_type": "code",
   "execution_count": 19,
   "metadata": {},
   "outputs": [],
   "source": [
    "# Imports\n",
    "import numpy as np \n",
    "import sklearn\n",
    "import matplotlib.pyplot as plt\n",
    "from sklearn.svm import SVC\n",
    "from sklearn.decomposition import PCA\n",
    "import xml.etree.ElementTree as ET \n",
    "\n",
    "from sklearn.ensemble import VotingClassifier\n",
    "from sklearn.preprocessing import LabelEncoder\n",
    "\n",
    "%matplotlib inline"
   ]
  },
  {
   "cell_type": "code",
   "execution_count": 3,
   "metadata": {},
   "outputs": [],
   "source": [
    "# Load dataa\n",
    "dataset_dir = { 'image_path' : \"./dataset/T1-train/img/\",\n",
    "    'xml_path' : \"./dataset/T1-train/GT/T1-GT.xml\",\n",
    "    'txt_path' : \"./dataset/T1-train/txt/\",\n",
    "    't2_image_path' : \"./dataset/T1-train/img/\",\n",
    "    'npy_file': './dataset/old_data.npy'}\n",
    "\n",
    "data = np.load(dataset_dir['npy_file'])\n",
    "image_dict = data.item().get('image_dict')\n",
    "\n",
    "y_dict = {}\n",
    "tree = ET.parse(dataset_dir['xml_path'])\n",
    "root = tree.getroot()\n",
    "tampered_region = []\n",
    "for elem in root:\n",
    "    d = elem.attrib\n",
    "    y_dict[d['id']] = int(d['modified'])\n",
    "    "
   ]
  },
  {
   "cell_type": "code",
   "execution_count": 9,
   "metadata": {},
   "outputs": [],
   "source": [
    "# Convert dict to numpy array\n",
    "image_list = []\n",
    "y_list = []\n",
    "for key in image_dict:\n",
    "    image_list.append(image_dict[key])\n",
    "    y_list.append(y_dict[key])\n",
    "image_list = np.array(image_list)\n",
    "y_list = np.array(y_list)"
   ]
  },
  {
   "cell_type": "code",
   "execution_count": 21,
   "metadata": {},
   "outputs": [
    {
     "data": {
      "text/plain": [
       "((500, 77, 5, 5, 4, 4), (500,))"
      ]
     },
     "execution_count": 21,
     "metadata": {},
     "output_type": "execute_result"
    }
   ],
   "source": [
    "image_list.shape, y_list.shape"
   ]
  },
  {
   "cell_type": "code",
   "execution_count": 20,
   "metadata": {},
   "outputs": [
    {
     "name": "stdout",
     "output_type": "stream",
     "text": [
      "(500, 30800)\n"
     ]
    },
    {
     "data": {
      "image/png": "[encoded data removed]",
      "text/plain": [
       "<Figure size 600x400 with 1 Axes>"
      ]
     },
     "metadata": {},
     "output_type": "display_data"
    }
   ],
   "source": [
    "def do_PCA(image_list,y_list):\n",
    "    pca = PCA(n_components=2)\n",
    "    image_list = image_list.reshape(image_list.shape[0],-1)\n",
    "    print(image_list.shape)\n",
    "    pca.fit(image_list)\n",
    "    image_2d = pca.fit_transform(image_list)\n",
    "\n",
    "    gr = []\n",
    "    fr = []\n",
    "    for i, y in enumerate(y_dict):\n",
    "        y = y_dict[y]\n",
    "        if y==1:\n",
    "            gr.append(image_2d[i])\n",
    "        else:\n",
    "            fr.append(image_2d[i])\n",
    "    gr = np.array(gr)        \n",
    "    fr = np.array(fr)        \n",
    "    plt.scatter(gr[:,0],gr[:,1],label='tampered')\n",
    "    plt.scatter(fr[:,0],fr[:,1],label='real')\n",
    "    plt.show()\n",
    "    \n",
    "do_PCA(image_list,y_list)"
   ]
  },
  {
   "cell_type": "code",
   "execution_count": 35,
   "metadata": {},
   "outputs": [],
   "source": [
    "\n",
    "def fit_multiple_estimators(num_classfiers, X, y):\n",
    "    \n",
    "    classifiers = []\n",
    "    for i in range(num_classfiers):\n",
    "        clf = SVC()\n",
    "        classifiers.append(clf)\n",
    "    # Fit all estimators with their respective feature arrays\n",
    "    estimators = [clf.fit(X[:,i,:,:,:,:].reshape(image_list.shape[0],-1), y)  for i,clf in enumerate(classifiers) ]\n",
    "    return estimators\n",
    "\n",
    "\n",
    "def predict_from_multiple_estimator(estimators,  X):\n",
    "\n",
    "    pred1 = np.asarray([clf.predict(X[:,i,:,:,:,:].reshape(image_list.shape[0],-1)) for i,clf in enumerate(estimators) ])\n",
    "    pred2 = np.average(pred1, axis=0)\n",
    "    pred = pred2 > 0.5\n",
    "\n",
    "    # Convert integer predictions to original labels:\n",
    "    return pred,pred1\n"
   ]
  },
  {
   "cell_type": "code",
   "execution_count": 37,
   "metadata": {},
   "outputs": [
    {
     "name": "stdout",
     "output_type": "stream",
     "text": [
      "[False False False False False False False False False False False False\n",
      " False False False False False False False False False False False False\n",
      " False False False False False False False False False False False False\n",
      " False False False False False False False False False False False False\n",
      " False False False False False False False False False False False False\n",
      " False False False False False False False False False False False False\n",
      " False False False False False False False False False False False False\n",
      " False False False False False False False False False False False False\n",
      " False False False False False False False False False False False False\n",
      " False False False False False False False False False False False False\n",
      " False False False False False False False False False False False False\n",
      " False False False False False False False False False False False False\n",
      " False False False False False False False False False False False False\n",
      " False False False False False False False False False False False False\n",
      " False False False False False False False False False False False False\n",
      " False False False False False False False False False False False False\n",
      " False False False False False False False False False False False False\n",
      " False False False False False False False False False False False False\n",
      " False False False False False False False False False False False False\n",
      " False False False False False False False False False False False False\n",
      " False False False False False False False False False False False False\n",
      " False False False False False False False False False False False False\n",
      " False False False False False False False False False False False False\n",
      " False False False False False False False False False False False False\n",
      " False False False False False False False False False False False False\n",
      " False False False False False False False False False False False False\n",
      " False False False False False False False False False False False False\n",
      " False False False False False False False False False False False False\n",
      " False False False False False False False False False False False False\n",
      " False False False False False False False False False False False False\n",
      " False False False False False False False False False False False False\n",
      " False False False False False False False False False False False False\n",
      " False False False False False False False False False False False False\n",
      " False False False False False False False False False False False False\n",
      " False False False False False False False False False False False False\n",
      " False False False False False False False False False False False False\n",
      " False False False False False False False False False False False False\n",
      " False False False False False False False False False False False False\n",
      " False False False False False False False False False False False False\n",
      " False False False False False False False False False False False False\n",
      " False False False False False False False False False False False False\n",
      " False False False False False False False False]\n"
     ]
    }
   ],
   "source": [
    "num_classfiers = image_list.shape[1]\n",
    "fit_clf_list = fit_multiple_estimators(num_classfiers,image_list,y_list)\n",
    "\n",
    "pred, pred1 = predict_from_multiple_estimator(fit_clf_list,image_list)\n",
    "print(pred)"
   ]
  },
  {
   "cell_type": "code",
   "execution_count": 40,
   "metadata": {},
   "outputs": [
    {
     "data": {
      "text/plain": [
       "0"
      ]
     },
     "execution_count": 40,
     "metadata": {},
     "output_type": "execute_result"
    }
   ],
   "source": []
  },
  {
   "cell_type": "code",
   "execution_count": null,
   "metadata": {},
   "outputs": [],
   "source": []
  }
 ],
 "metadata": {
  "kernelspec": {
   "display_name": "Python 3",
   "language": "python",
   "name": "python3"
  },
  "language_info": {
   "codemirror_mode": {
    "name": "ipython",
    "version": 3
   },
   "file_extension": ".py",
   "mimetype": "text/x-python",
   "name": "python",
   "nbconvert_exporter": "python",
   "pygments_lexer": "ipython3",
   "version": "3.5.2"
  }
 },
 "nbformat": 4,
 "nbformat_minor": 2
}
